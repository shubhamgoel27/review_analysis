{
 "metadata": {
  "name": "",
  "signature": "sha256:c29642dc4cd4d1cfa2db885c50feacf8e596e2b251364812ebea4cd7e8339243"
 },
 "nbformat": 3,
 "nbformat_minor": 0,
 "worksheets": [
  {
   "cells": [
    {
     "cell_type": "code",
     "collapsed": false,
     "input": [
      "import pandas as pd\n",
      "import numpy as np\n",
      "import matplotlib.pyplot as plt\n",
      "import json"
     ],
     "language": "python",
     "metadata": {},
     "outputs": [],
     "prompt_number": 1
    },
    {
     "cell_type": "code",
     "collapsed": false,
     "input": [
      "import string"
     ],
     "language": "python",
     "metadata": {},
     "outputs": [],
     "prompt_number": 2
    },
    {
     "cell_type": "code",
     "collapsed": false,
     "input": [
      "import re"
     ],
     "language": "python",
     "metadata": {},
     "outputs": [],
     "prompt_number": 3
    },
    {
     "cell_type": "markdown",
     "metadata": {},
     "source": [
      "##Reading data\n",
      "Data will be stored as a list of dicts, each dict containing information about a single phone"
     ]
    },
    {
     "cell_type": "code",
     "collapsed": false,
     "input": [
      "data = []\n",
      "with open('data/review.json') as f:\n",
      "    for line in f:\n",
      "        #Each element in data is a dictionary\n",
      "        data.append(json.loads(line))"
     ],
     "language": "python",
     "metadata": {},
     "outputs": [],
     "prompt_number": 4
    },
    {
     "cell_type": "code",
     "collapsed": false,
     "input": [
      "data[0].keys()"
     ],
     "language": "python",
     "metadata": {},
     "outputs": [
      {
       "metadata": {},
       "output_type": "pyout",
       "prompt_number": 5,
       "text": [
        "[u'url', u'reviews', u'title']"
       ]
      }
     ],
     "prompt_number": 5
    },
    {
     "cell_type": "markdown",
     "metadata": {},
     "source": [
      "Let's add an average rating key to all phones as well"
     ]
    },
    {
     "cell_type": "code",
     "collapsed": false,
     "input": [
      "for phone in data:\n",
      "    avg = 0.0\n",
      "    for review in phone['reviews']:\n",
      "        avg += float(review[0])\n",
      "    if len(phone['reviews'])!=0:\n",
      "        avg = avg/len(phone['reviews'])\n",
      "    phone['avg_rating'] = avg"
     ],
     "language": "python",
     "metadata": {},
     "outputs": [],
     "prompt_number": 6
    },
    {
     "cell_type": "code",
     "collapsed": false,
     "input": [
      "print data[48]['title']   #Test phone"
     ],
     "language": "python",
     "metadata": {},
     "outputs": [
      {
       "output_type": "stream",
       "stream": "stdout",
       "text": [
        "Samsung Metro 312 SM-B312E (Black)\n"
       ]
      }
     ],
     "prompt_number": 7
    },
    {
     "cell_type": "code",
     "collapsed": false,
     "input": [
      "for i in range(30,50):\n",
      "    print data[i]['title'],\":\", \"{:.2f}\".format(data[i]['avg_rating']), \"stars (based on\",len(data[i]['reviews']),\"reviews)\""
     ],
     "language": "python",
     "metadata": {},
     "outputs": [
      {
       "output_type": "stream",
       "stream": "stdout",
       "text": [
        "MICROMAX C192, CDMA PHONE : 1.95 stars (based on 16 reviews)\n",
        "Forme F530 (black+blue) : 3.51 stars (based on 7 reviews)\n",
        "Samsung Guru E1207T (Black) : 3.25 stars (based on 20 reviews)\n",
        "Nokia 130 (Dual SIM, White) : 4.06 stars (based on 20 reviews)\n",
        "Forme S60 Dual Sim Cell Phone (white+blue) : 4.00 stars (based on 2 reviews)\n",
        "Gionee L800 (Black-Champiagne) : 4.57 stars (based on 20 reviews)\n",
        "Lava Arc 240 (Black-Blue) : 2.77 stars (based on 3 reviews)\n",
        "Forme F510 black+red : 2.57 stars (based on 3 reviews)\n",
        "Lava KKT 14s (Grey-Black&nbsp;) : 4.70 stars (based on 4 reviews)\n",
        "Lava Arc Lite Plus (Black-Blue) : 3.58 stars (based on 11 reviews)\n",
        "Lava ARC Magic (Black) : 3.68 stars (based on 10 reviews)\n",
        "PANASONIC GD25c CDMA+GSM (GREY-BLACK) : 2.85 stars (based on 10 reviews)\n",
        "Samsung Metro Duos GT-C3322 (White) : 0.00 stars (based on 0 reviews)\n",
        "Forme Hero Dual Sim Cell Phone (Red ) : 3.10 stars (based on 12 reviews)\n",
        "Karbonn K451+ (Champ Gold) : 2.95 stars (based on 20 reviews)\n",
        "Micromax Rockstar C192 (Black) : 2.28 stars (based on 5 reviews)\n",
        "Lava ARC 12 Plus (White) : 3.80 stars (based on 6 reviews)\n",
        "Lava C11s (White) : 3.67 stars (based on 3 reviews)\n",
        "Samsung Metro 312 SM-B312E (Black) : 3.83 stars (based on 20 reviews)\n",
        "Lava ARC Grand (Black-Grey) : 4.25 stars (based on 2 reviews)\n"
       ]
      }
     ],
     "prompt_number": 8
    },
    {
     "cell_type": "code",
     "collapsed": false,
     "input": [
      "data[48]['reviews'][2][3]  #Test review"
     ],
     "language": "python",
     "metadata": {},
     "outputs": [
      {
       "metadata": {},
       "output_type": "pyout",
       "prompt_number": 9,
       "text": [
        "u'Defective item recieved, switches off every 20 minutes. keys not respond, battery 3 hrs. truly disappointed. even returns are not easy from where i live, ordering this item has been very punishing for me. didnt expect this from an a fullfilled item.'"
       ]
      }
     ],
     "prompt_number": 9
    },
    {
     "cell_type": "code",
     "collapsed": false,
     "input": [
      "data[165]['reviews'][0]   #Another test review"
     ],
     "language": "python",
     "metadata": {},
     "outputs": [
      {
       "metadata": {},
       "output_type": "pyout",
       "prompt_number": 10,
       "text": [
        "[u'3.7',\n",
        " u'Great phone under 1.5k - sure shot',\n",
        " u'Ravi',\n",
        " u\"I'm giving this a 4 star only because of just only one drawback. The micro phone is below average quality, where if we speak thru the phone the other party is not able to hear properly at all. We have to be a little loud on this.  Pros- Good screen size customizable ringtone, wallpapers micro sd support dual sim (Stand by sim mode ) Whatsapp (i don care about this though, since i don use it) Wireless FM Radio Awesomatic speaker sound and clarity Vibrant white and red combination (which i have purchased) Auto on or off torch + flash for camera shortcut keys customization for quick launch phone theft bluetooth  Cons:- Poor microphone . FM clarity inside rooms are not too good.\"]"
       ]
      }
     ],
     "prompt_number": 10
    },
    {
     "cell_type": "code",
     "collapsed": false,
     "input": [
      "data[25]['reviews'][3]"
     ],
     "language": "python",
     "metadata": {},
     "outputs": [
      {
       "metadata": {},
       "output_type": "pyout",
       "prompt_number": 11,
       "text": [
        "[u'4.0',\n",
        " u'Well done Amazon',\n",
        " u'R R PILLAI',\n",
        " u'Reasonably good product priced equally good. Very good service by Amazon. Well done.']"
       ]
      }
     ],
     "prompt_number": 11
    },
    {
     "cell_type": "code",
     "collapsed": false,
     "input": [
      "def remove_punc(text):\n",
      "    '''returns the text without any punctuations'''\n",
      "    out = ''\n",
      "    for letter in text:\n",
      "        if letter not in string.punctuation:\n",
      "            out +=letter\n",
      "    return out"
     ],
     "language": "python",
     "metadata": {},
     "outputs": [],
     "prompt_number": 12
    },
    {
     "cell_type": "code",
     "collapsed": false,
     "input": [
      "remove_punc('Thi.s ac.-tua=ll!y is a^ corre$ct se#nt@anc^e')"
     ],
     "language": "python",
     "metadata": {},
     "outputs": [
      {
       "metadata": {},
       "output_type": "pyout",
       "prompt_number": 13,
       "text": [
        "'This actually is a correct sentance'"
       ]
      }
     ],
     "prompt_number": 13
    },
    {
     "cell_type": "markdown",
     "metadata": {},
     "source": [
      "Converting reviews in lowercase and removing all punctuations."
     ]
    },
    {
     "cell_type": "code",
     "collapsed": false,
     "input": [
      "for phone in data:\n",
      "    for i in range(len(phone['reviews'])):\n",
      "        phone['reviews'][i][3] = phone['reviews'][i][3].lower()\n",
      "        phone['reviews'][i][3] = remove_punc(phone['reviews'][i][3])\n",
      "        "
     ],
     "language": "python",
     "metadata": {},
     "outputs": [],
     "prompt_number": 14
    },
    {
     "cell_type": "code",
     "collapsed": false,
     "input": [
      "data[48]['reviews'][2][3]"
     ],
     "language": "python",
     "metadata": {},
     "outputs": [
      {
       "metadata": {},
       "output_type": "pyout",
       "prompt_number": 15,
       "text": [
        "u'defective item recieved switches off every 20 minutes keys not respond battery 3 hrs truly disappointed even returns are not easy from where i live ordering this item has been very punishing for me didnt expect this from an a fullfilled item'"
       ]
      }
     ],
     "prompt_number": 15
    },
    {
     "cell_type": "code",
     "collapsed": false,
     "input": [
      "data[165]['reviews'][0]"
     ],
     "language": "python",
     "metadata": {},
     "outputs": [
      {
       "metadata": {},
       "output_type": "pyout",
       "prompt_number": 16,
       "text": [
        "[u'3.7',\n",
        " u'Great phone under 1.5k - sure shot',\n",
        " u'Ravi',\n",
        " u'im giving this a 4 star only because of just only one drawback the micro phone is below average quality where if we speak thru the phone the other party is not able to hear properly at all we have to be a little loud on this  pros good screen size customizable ringtone wallpapers micro sd support dual sim stand by sim mode  whatsapp i don care about this though since i don use it wireless fm radio awesomatic speaker sound and clarity vibrant white and red combination which i have purchased auto on or off torch  flash for camera shortcut keys customization for quick launch phone theft bluetooth  cons poor microphone  fm clarity inside rooms are not too good']"
       ]
      }
     ],
     "prompt_number": 16
    },
    {
     "cell_type": "code",
     "collapsed": false,
     "input": [
      "test = data[48]['reviews'][2][3]"
     ],
     "language": "python",
     "metadata": {},
     "outputs": [
      {
       "ename": "NameError",
       "evalue": "name 'data' is not defined",
       "output_type": "pyerr",
       "traceback": [
        "\u001b[0;31m---------------------------------------------------------------------------\u001b[0m\n\u001b[0;31mNameError\u001b[0m                                 Traceback (most recent call last)",
        "\u001b[0;32m<ipython-input-1-30b49201edd8>\u001b[0m in \u001b[0;36m<module>\u001b[0;34m()\u001b[0m\n\u001b[0;32m----> 1\u001b[0;31m \u001b[0mtest\u001b[0m \u001b[0;34m=\u001b[0m \u001b[0mdata\u001b[0m\u001b[0;34m[\u001b[0m\u001b[0;36m48\u001b[0m\u001b[0;34m]\u001b[0m\u001b[0;34m[\u001b[0m\u001b[0;34m'reviews'\u001b[0m\u001b[0;34m]\u001b[0m\u001b[0;34m[\u001b[0m\u001b[0;36m2\u001b[0m\u001b[0;34m]\u001b[0m\u001b[0;34m[\u001b[0m\u001b[0;36m3\u001b[0m\u001b[0;34m]\u001b[0m\u001b[0;34m\u001b[0m\u001b[0m\n\u001b[0m",
        "\u001b[0;31mNameError\u001b[0m: name 'data' is not defined"
       ]
      }
     ],
     "prompt_number": 1
    },
    {
     "cell_type": "code",
     "collapsed": false,
     "input": [
      "test.find('battery')"
     ],
     "language": "python",
     "metadata": {},
     "outputs": [
      {
       "metadata": {},
       "output_type": "pyout",
       "prompt_number": 18,
       "text": [
        "71"
       ]
      }
     ],
     "prompt_number": 18
    },
    {
     "cell_type": "code",
     "collapsed": false,
     "input": [
      "[pos.start() for pos in re.finditer('battery', test)]"
     ],
     "language": "python",
     "metadata": {},
     "outputs": [
      {
       "metadata": {},
       "output_type": "pyout",
       "prompt_number": 19,
       "text": [
        "[71]"
       ]
      }
     ],
     "prompt_number": 19
    },
    {
     "cell_type": "code",
     "collapsed": false,
     "input": [
      "position = [pos.start() for pos in re.finditer('item', test)]"
     ],
     "language": "python",
     "metadata": {},
     "outputs": [],
     "prompt_number": 22
    },
    {
     "cell_type": "code",
     "collapsed": false,
     "input": [
      "text = 'https://www.google.com is the best.'\n",
      "regex = r'https?://[^\\s<>\"]+|www\\.[^\\s<>\"]+'\n",
      "match = re.search(regex, text)\n",
      "print match.group()"
     ],
     "language": "python",
     "metadata": {},
     "outputs": [
      {
       "output_type": "stream",
       "stream": "stdout",
       "text": [
        "https://www.google.com\n"
       ]
      }
     ],
     "prompt_number": 21
    },
    {
     "cell_type": "code",
     "collapsed": false,
     "input": [
      "test[position[0]-10:position[0]+10]"
     ],
     "language": "python",
     "metadata": {},
     "outputs": [
      {
       "metadata": {},
       "output_type": "pyout",
       "prompt_number": 24,
       "text": [
        "u'defective item recie'"
       ]
      }
     ],
     "prompt_number": 24
    },
    {
     "cell_type": "code",
     "collapsed": false,
     "input": [],
     "language": "python",
     "metadata": {},
     "outputs": []
    }
   ],
   "metadata": {}
  }
 ]
}