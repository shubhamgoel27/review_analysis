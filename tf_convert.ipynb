{
 "metadata": {
  "name": "",
  "signature": "sha256:185dff198111e28db53c622ce313d6891ce6d51ecb64bc7200b2961e5958394f"
 },
 "nbformat": 3,
 "nbformat_minor": 0,
 "worksheets": [
  {
   "cells": [
    {
     "cell_type": "code",
     "collapsed": false,
     "input": [
      "import pandas as pd\n",
      "from sklearn.feature_extraction.text import CountVectorizer\n",
      "from sklearn.feature_extraction.text import TfidfTransformer\n",
      "from sklearn.feature_extraction.text import TfidfVectorizer"
     ],
     "language": "python",
     "metadata": {},
     "outputs": [],
     "prompt_number": 1
    },
    {
     "cell_type": "code",
     "collapsed": false,
     "input": [
      "from nltk.stem.snowball import SnowballStemmer\n",
      "from nltk import corpus\n",
      "import nltk"
     ],
     "language": "python",
     "metadata": {},
     "outputs": [],
     "prompt_number": 2
    },
    {
     "cell_type": "code",
     "collapsed": false,
     "input": [
      "import re"
     ],
     "language": "python",
     "metadata": {},
     "outputs": [],
     "prompt_number": 3
    },
    {
     "cell_type": "code",
     "collapsed": false,
     "input": [
      "data = pd.read_csv('reviewtable.csv',sep='\\t')"
     ],
     "language": "python",
     "metadata": {},
     "outputs": [],
     "prompt_number": 4
    },
    {
     "cell_type": "code",
     "collapsed": false,
     "input": [
      "data.head(5)"
     ],
     "language": "python",
     "metadata": {},
     "outputs": [
      {
       "html": [
        "<div style=\"max-height:1000px;max-width:1500px;overflow:auto;\">\n",
        "<table border=\"1\" class=\"dataframe\">\n",
        "  <thead>\n",
        "    <tr style=\"text-align: right;\">\n",
        "      <th></th>\n",
        "      <th>Unnamed: 0</th>\n",
        "      <th>phone</th>\n",
        "      <th>review</th>\n",
        "    </tr>\n",
        "  </thead>\n",
        "  <tbody>\n",
        "    <tr>\n",
        "      <th>0</th>\n",
        "      <td> 1</td>\n",
        "      <td> Nokia 105 (Black Color)</td>\n",
        "      <td> very ordinary phone for daily use and if you a...</td>\n",
        "    </tr>\n",
        "    <tr>\n",
        "      <th>1</th>\n",
        "      <td> 2</td>\n",
        "      <td> Nokia 105 (Black Color)</td>\n",
        "      <td> this rating for vendor please blacklist this v...</td>\n",
        "    </tr>\n",
        "    <tr>\n",
        "      <th>2</th>\n",
        "      <td> 3</td>\n",
        "      <td> Nokia 105 (Black Color)</td>\n",
        "      <td> an inexpensive phone which looks cheap but giv...</td>\n",
        "    </tr>\n",
        "    <tr>\n",
        "      <th>3</th>\n",
        "      <td> 4</td>\n",
        "      <td> Nokia 105 (Black Color)</td>\n",
        "      <td> no doubt product is value for money also i fol...</td>\n",
        "    </tr>\n",
        "    <tr>\n",
        "      <th>4</th>\n",
        "      <td> 5</td>\n",
        "      <td> Nokia 105 (Black Color)</td>\n",
        "      <td> literally i bought this phone only to make cal...</td>\n",
        "    </tr>\n",
        "  </tbody>\n",
        "</table>\n",
        "</div>"
       ],
       "metadata": {},
       "output_type": "pyout",
       "prompt_number": 5,
       "text": [
        "   Unnamed: 0                    phone  \\\n",
        "0           1  Nokia 105 (Black Color)   \n",
        "1           2  Nokia 105 (Black Color)   \n",
        "2           3  Nokia 105 (Black Color)   \n",
        "3           4  Nokia 105 (Black Color)   \n",
        "4           5  Nokia 105 (Black Color)   \n",
        "\n",
        "                                              review  \n",
        "0  very ordinary phone for daily use and if you a...  \n",
        "1  this rating for vendor please blacklist this v...  \n",
        "2  an inexpensive phone which looks cheap but giv...  \n",
        "3  no doubt product is value for money also i fol...  \n",
        "4  literally i bought this phone only to make cal...  "
       ]
      }
     ],
     "prompt_number": 5
    },
    {
     "cell_type": "code",
     "collapsed": false,
     "input": [
      "stopwords = corpus.stopwords.words('english')\n",
      "stemmer = SnowballStemmer('english')\n"
     ],
     "language": "python",
     "metadata": {},
     "outputs": [
      {
       "ename": "AttributeError",
       "evalue": "'list' object has no attribute 'stopwords'",
       "output_type": "pyerr",
       "traceback": [
        "\u001b[0;31m---------------------------------------------------------------------------\u001b[0m\n\u001b[0;31mAttributeError\u001b[0m                            Traceback (most recent call last)",
        "\u001b[0;32m<ipython-input-39-dafe8727ffba>\u001b[0m in \u001b[0;36m<module>\u001b[0;34m()\u001b[0m\n\u001b[0;32m----> 1\u001b[0;31m \u001b[0mstopwords\u001b[0m \u001b[0;34m=\u001b[0m \u001b[0mcorpus\u001b[0m\u001b[0;34m.\u001b[0m\u001b[0mstopwords\u001b[0m\u001b[0;34m.\u001b[0m\u001b[0mwords\u001b[0m\u001b[0;34m(\u001b[0m\u001b[0;34m'english'\u001b[0m\u001b[0;34m)\u001b[0m\u001b[0;34m\u001b[0m\u001b[0m\n\u001b[0m\u001b[1;32m      2\u001b[0m \u001b[0mstemmer\u001b[0m \u001b[0;34m=\u001b[0m \u001b[0mSnowballStemmer\u001b[0m\u001b[0;34m(\u001b[0m\u001b[0;34m'english'\u001b[0m\u001b[0;34m)\u001b[0m\u001b[0;34m\u001b[0m\u001b[0m\n",
        "\u001b[0;31mAttributeError\u001b[0m: 'list' object has no attribute 'stopwords'"
       ]
      }
     ],
     "prompt_number": 39
    },
    {
     "cell_type": "code",
     "collapsed": false,
     "input": [
      "data['review'][0]"
     ],
     "language": "python",
     "metadata": {},
     "outputs": [
      {
       "metadata": {},
       "output_type": "pyout",
       "prompt_number": 7,
       "text": [
        "'very ordinary phone for daily use and if you are having having thoughts of buying a secondary phone just for calling then just go blindly and purchase it pros 1 battery life more then expected after using smartphone we are addicted to charge our phones for atleast once in a day not for this there is no need to charge it for atleast 2 days 2 look copy of lumia to give you the feel of it 3 sar value is very low when compared to other basic phones 4 multiple alarms 5 bright colorful themes 6 the dialed button has the option for all the recent dialed received and missed this feature is not present in most of previous nokia basic model phones 7 and most importantly 34rapid rolling34 baby oh yeah 8 pro for me as vibration is very much high and much needed if you are travelling and spend most of the hours outside 9 and 35 mm jack for the radio  and sadly cons 1 very small screen 2 not much of ringtone selection'"
       ]
      }
     ],
     "prompt_number": 7
    },
    {
     "cell_type": "code",
     "collapsed": false,
     "input": [
      "stopwords = stopwords + ['phone']"
     ],
     "language": "python",
     "metadata": {},
     "outputs": [],
     "prompt_number": 41
    },
    {
     "cell_type": "code",
     "collapsed": false,
     "input": [
      "stemmer.stem(data['review'][0])"
     ],
     "language": "python",
     "metadata": {},
     "outputs": [
      {
       "metadata": {},
       "output_type": "pyout",
       "prompt_number": 8,
       "text": [
        "u'very ordinary phone for daily use and if you are having having thoughts of buying a secondary phone just for calling then just go blindly and purchase it pros 1 battery life more then expected after using smartphone we are addicted to charge our phones for atleast once in a day not for this there is no need to charge it for atleast 2 days 2 look copy of lumia to give you the feel of it 3 sar value is very low when compared to other basic phones 4 multiple alarms 5 bright colorful themes 6 the dialed button has the option for all the recent dialed received and missed this feature is not present in most of previous nokia basic model phones 7 and most importantly 34rapid rolling34 baby oh yeah 8 pro for me as vibration is very much high and much needed if you are travelling and spend most of the hours outside 9 and 35 mm jack for the radio  and sadly cons 1 very small screen 2 not much of ringtone select'"
       ]
      }
     ],
     "prompt_number": 8
    },
    {
     "cell_type": "markdown",
     "metadata": {},
     "source": [
      "###Tokenize and stem the corpus\n",
      "This is a helper function which will tokenize and stem the input text"
     ]
    },
    {
     "cell_type": "code",
     "collapsed": false,
     "input": [
      "def tokenize_and_stem(text):\n",
      "    # first tokenize by sentence, then by word to ensure that punctuation is caught as it's own token\n",
      "    tokens = [word for sent in nltk.sent_tokenize(text) for word in nltk.word_tokenize(sent)]\n",
      "    filtered_tokens = []\n",
      "    # filter out any tokens not containing letters (e.g., numeric tokens, raw punctuation)\n",
      "    for token in tokens:\n",
      "        if re.search('[a-zA-Z]', token):\n",
      "            filtered_tokens.append(token)\n",
      "    stems = [stemmer.stem(t) for t in filtered_tokens]\n",
      "    return stems"
     ],
     "language": "python",
     "metadata": {},
     "outputs": [],
     "prompt_number": 9
    },
    {
     "cell_type": "code",
     "collapsed": false,
     "input": [
      "tfidf_vectorizer = TfidfVectorizer(norm='l2',max_df = 0.9, min_df=0.04, stop_words=['amazon']+stopwords,\n",
      "                                   use_idf=True, tokenizer=tokenize_and_stem, ngram_range=range(1,3))"
     ],
     "language": "python",
     "metadata": {},
     "outputs": [],
     "prompt_number": 10
    },
    {
     "cell_type": "code",
     "collapsed": false,
     "input": [
      "%time tfidf_matrix = tfidf_vectorizer.fit_transform(data['review'])\n",
      "\n",
      "print tfidf_matrix.shape"
     ],
     "language": "python",
     "metadata": {},
     "outputs": [
      {
       "output_type": "stream",
       "stream": "stdout",
       "text": [
        "CPU times: user 11.7 s, sys: 72 ms, total: 11.7 s\n",
        "Wall time: 12 s\n",
        "(9342, 118)\n"
       ]
      }
     ],
     "prompt_number": 11
    },
    {
     "cell_type": "code",
     "collapsed": false,
     "input": [
      "terms = tfidf_vectorizer.get_feature_names()\n",
      "for i in range(20):\n",
      "    print '        '.join(terms[5*i:5*i+5])\n",
      "    "
     ],
     "language": "python",
     "metadata": {},
     "outputs": [
      {
       "output_type": "stream",
       "stream": "stdout",
       "text": [
        "also        amaz        android        ani        app\n",
        "avail        awesom        back        backup        bad\n",
        "batteri        batteri backup        batteri life        best        better\n",
        "bought        budget        buy        call        camera\n",
        "charg        come        compar        con        day\n",
        "deliveri        devic        display        dont        even\n",
        "excel        expect        experi        fast        featur\n",
        "feel        first        front        game        gb\n",
        "get        give        go        good        good phone\n",
        "got        great        hang        heat        high\n",
        "intern        issu        lag        last        life\n",
        "light        like        look        lot        love\n",
        "low        make        mani        memori        mobil\n",
        "money        month        much        need        nice\n",
        "one        onli        overal        perform        phone\n",
        "play        poor        price        problem        processor\n",
        "product        pros        purchas        qualiti        ram\n",
        "rang        realli        recommend        run        samsung\n",
        "say        screen        servic        sim        smooth\n",
        "sound        speaker        still        support        take\n"
       ]
      }
     ],
     "prompt_number": 12
    },
    {
     "cell_type": "code",
     "collapsed": false,
     "input": [
      "from sklearn.metrics.pairwise import cosine_similarity\n",
      "#cosine_similarity(tfidf_matrix)"
     ],
     "language": "python",
     "metadata": {},
     "outputs": [],
     "prompt_number": 13
    },
    {
     "cell_type": "code",
     "collapsed": false,
     "input": [
      "from sklearn.cluster import KMeans\n",
      "km = KMeans(6)\n",
      "%time km.fit(tfidf_matrix)"
     ],
     "language": "python",
     "metadata": {},
     "outputs": [
      {
       "output_type": "stream",
       "stream": "stdout",
       "text": [
        "CPU times: user 5.17 s, sys: 8 ms, total: 5.18 s\n",
        "Wall time: 5.18 s\n"
       ]
      },
      {
       "metadata": {},
       "output_type": "pyout",
       "prompt_number": 14,
       "text": [
        "KMeans(copy_x=True, init='k-means++', max_iter=300, n_clusters=6, n_init=10,\n",
        "    n_jobs=1, precompute_distances=True, random_state=None, tol=0.0001,\n",
        "    verbose=0)"
       ]
      }
     ],
     "prompt_number": 14
    },
    {
     "cell_type": "code",
     "collapsed": false,
     "input": [
      "from sklearn.externals import joblib\n",
      "#joblib.dump(km, 'kmeans_cluster.pkl')"
     ],
     "language": "python",
     "metadata": {},
     "outputs": [
      {
       "metadata": {},
       "output_type": "pyout",
       "prompt_number": 15,
       "text": [
        "['kmeans_cluster.pkl',\n",
        " 'kmeans_cluster.pkl_01.npy',\n",
        " 'kmeans_cluster.pkl_02.npy']"
       ]
      }
     ],
     "prompt_number": 15
    },
    {
     "cell_type": "code",
     "collapsed": false,
     "input": [
      "ls"
     ],
     "language": "python",
     "metadata": {},
     "outputs": [
      {
       "output_type": "stream",
       "stream": "stdout",
       "text": [
        "\u001b[0m\u001b[01;34mdata\u001b[0m/       kmeans_cluster.pkl         positive.txt        tutorial.py\r\n",
        "eda.ipynb   kmeans_cluster.pkl_01.npy  reviewtable.csv\r\n",
        "eda.py      kmeans_cluster.pkl_02.npy  td_idf_tutorial.py\r\n",
        "explore.py  negative.txt               tf_convert.ipynb\r\n"
       ]
      }
     ],
     "prompt_number": 16
    },
    {
     "cell_type": "code",
     "collapsed": false,
     "input": [
      "clusters = km.labels_.tolist()"
     ],
     "language": "python",
     "metadata": {},
     "outputs": [],
     "prompt_number": 17
    },
    {
     "cell_type": "code",
     "collapsed": false,
     "input": [
      "data['cluster'] = clusters"
     ],
     "language": "python",
     "metadata": {},
     "outputs": [],
     "prompt_number": 18
    },
    {
     "cell_type": "code",
     "collapsed": false,
     "input": [
      "data.head(20)"
     ],
     "language": "python",
     "metadata": {},
     "outputs": [
      {
       "html": [
        "<div style=\"max-height:1000px;max-width:1500px;overflow:auto;\">\n",
        "<table border=\"1\" class=\"dataframe\">\n",
        "  <thead>\n",
        "    <tr style=\"text-align: right;\">\n",
        "      <th></th>\n",
        "      <th>Unnamed: 0</th>\n",
        "      <th>phone</th>\n",
        "      <th>review</th>\n",
        "      <th>cluster</th>\n",
        "    </tr>\n",
        "  </thead>\n",
        "  <tbody>\n",
        "    <tr>\n",
        "      <th>0 </th>\n",
        "      <td>  1</td>\n",
        "      <td> Nokia 105 (Black Color)</td>\n",
        "      <td> very ordinary phone for daily use and if you a...</td>\n",
        "      <td> 5</td>\n",
        "    </tr>\n",
        "    <tr>\n",
        "      <th>1 </th>\n",
        "      <td>  2</td>\n",
        "      <td> Nokia 105 (Black Color)</td>\n",
        "      <td> this rating for vendor please blacklist this v...</td>\n",
        "      <td> 0</td>\n",
        "    </tr>\n",
        "    <tr>\n",
        "      <th>2 </th>\n",
        "      <td>  3</td>\n",
        "      <td> Nokia 105 (Black Color)</td>\n",
        "      <td> an inexpensive phone which looks cheap but giv...</td>\n",
        "      <td> 5</td>\n",
        "    </tr>\n",
        "    <tr>\n",
        "      <th>3 </th>\n",
        "      <td>  4</td>\n",
        "      <td> Nokia 105 (Black Color)</td>\n",
        "      <td> no doubt product is value for money also i fol...</td>\n",
        "      <td> 4</td>\n",
        "    </tr>\n",
        "    <tr>\n",
        "      <th>4 </th>\n",
        "      <td>  5</td>\n",
        "      <td> Nokia 105 (Black Color)</td>\n",
        "      <td> literally i bought this phone only to make cal...</td>\n",
        "      <td> 5</td>\n",
        "    </tr>\n",
        "    <tr>\n",
        "      <th>5 </th>\n",
        "      <td>  6</td>\n",
        "      <td> Nokia 105 (Black Color)</td>\n",
        "      <td> because of its durability this phone has basic...</td>\n",
        "      <td> 2</td>\n",
        "    </tr>\n",
        "    <tr>\n",
        "      <th>6 </th>\n",
        "      <td>  7</td>\n",
        "      <td> Nokia 105 (Black Color)</td>\n",
        "      <td> was looking for such phone rocksolid sturdy ph...</td>\n",
        "      <td> 5</td>\n",
        "    </tr>\n",
        "    <tr>\n",
        "      <th>7 </th>\n",
        "      <td>  8</td>\n",
        "      <td> Nokia 105 (Black Color)</td>\n",
        "      <td> my mistake i went by the name nokia and though...</td>\n",
        "      <td> 4</td>\n",
        "    </tr>\n",
        "    <tr>\n",
        "      <th>8 </th>\n",
        "      <td>  9</td>\n",
        "      <td> Nokia 105 (Black Color)</td>\n",
        "      <td> total waste of money i bought this as a standb...</td>\n",
        "      <td> 5</td>\n",
        "    </tr>\n",
        "    <tr>\n",
        "      <th>9 </th>\n",
        "      <td> 10</td>\n",
        "      <td> Nokia 105 (Black Color)</td>\n",
        "      <td> a very bare basic phone that does the job it i...</td>\n",
        "      <td> 5</td>\n",
        "    </tr>\n",
        "    <tr>\n",
        "      <th>10</th>\n",
        "      <td> 11</td>\n",
        "      <td> Nokia 105 (Black Color)</td>\n",
        "      <td> excellent seller value for money fantastic pro...</td>\n",
        "      <td> 4</td>\n",
        "    </tr>\n",
        "    <tr>\n",
        "      <th>11</th>\n",
        "      <td> 12</td>\n",
        "      <td> Nokia 105 (Black Color)</td>\n",
        "      <td> great product value for money using it for las...</td>\n",
        "      <td> 0</td>\n",
        "    </tr>\n",
        "    <tr>\n",
        "      <th>12</th>\n",
        "      <td> 13</td>\n",
        "      <td> Nokia 105 (Black Color)</td>\n",
        "      <td> nice back up phone battery back up of 3 weeks ...</td>\n",
        "      <td> 0</td>\n",
        "    </tr>\n",
        "    <tr>\n",
        "      <th>13</th>\n",
        "      <td> 14</td>\n",
        "      <td> Nokia 105 (Black Color)</td>\n",
        "      <td> liked it good one for the pricebest in arrange...</td>\n",
        "      <td> 1</td>\n",
        "    </tr>\n",
        "    <tr>\n",
        "      <th>14</th>\n",
        "      <td> 15</td>\n",
        "      <td> Nokia 105 (Black Color)</td>\n",
        "      <td> amazing actually i liked its rigtone nokia rin...</td>\n",
        "      <td> 1</td>\n",
        "    </tr>\n",
        "    <tr>\n",
        "      <th>15</th>\n",
        "      <td> 16</td>\n",
        "      <td> Nokia 105 (Black Color)</td>\n",
        "      <td> everything was fine but the earplugs were not ...</td>\n",
        "      <td> 0</td>\n",
        "    </tr>\n",
        "    <tr>\n",
        "      <th>16</th>\n",
        "      <td> 17</td>\n",
        "      <td> Nokia 105 (Black Color)</td>\n",
        "      <td> this is one good phone from nokia with all bas...</td>\n",
        "      <td> 5</td>\n",
        "    </tr>\n",
        "    <tr>\n",
        "      <th>17</th>\n",
        "      <td> 18</td>\n",
        "      <td> Nokia 105 (Black Color)</td>\n",
        "      <td> i ordered this phone for my friend and my frie...</td>\n",
        "      <td> 3</td>\n",
        "    </tr>\n",
        "    <tr>\n",
        "      <th>18</th>\n",
        "      <td> 19</td>\n",
        "      <td> Nokia 105 (Black Color)</td>\n",
        "      <td> i bought this phone for rs949 for my mom its v...</td>\n",
        "      <td> 5</td>\n",
        "    </tr>\n",
        "    <tr>\n",
        "      <th>19</th>\n",
        "      <td> 20</td>\n",
        "      <td> Nokia 105 (Black Color)</td>\n",
        "      <td> phone is ok but its not responding in case of ...</td>\n",
        "      <td> 5</td>\n",
        "    </tr>\n",
        "  </tbody>\n",
        "</table>\n",
        "</div>"
       ],
       "metadata": {},
       "output_type": "pyout",
       "prompt_number": 19,
       "text": [
        "    Unnamed: 0                    phone  \\\n",
        "0            1  Nokia 105 (Black Color)   \n",
        "1            2  Nokia 105 (Black Color)   \n",
        "2            3  Nokia 105 (Black Color)   \n",
        "3            4  Nokia 105 (Black Color)   \n",
        "4            5  Nokia 105 (Black Color)   \n",
        "5            6  Nokia 105 (Black Color)   \n",
        "6            7  Nokia 105 (Black Color)   \n",
        "7            8  Nokia 105 (Black Color)   \n",
        "8            9  Nokia 105 (Black Color)   \n",
        "9           10  Nokia 105 (Black Color)   \n",
        "10          11  Nokia 105 (Black Color)   \n",
        "11          12  Nokia 105 (Black Color)   \n",
        "12          13  Nokia 105 (Black Color)   \n",
        "13          14  Nokia 105 (Black Color)   \n",
        "14          15  Nokia 105 (Black Color)   \n",
        "15          16  Nokia 105 (Black Color)   \n",
        "16          17  Nokia 105 (Black Color)   \n",
        "17          18  Nokia 105 (Black Color)   \n",
        "18          19  Nokia 105 (Black Color)   \n",
        "19          20  Nokia 105 (Black Color)   \n",
        "\n",
        "                                               review  cluster  \n",
        "0   very ordinary phone for daily use and if you a...        5  \n",
        "1   this rating for vendor please blacklist this v...        0  \n",
        "2   an inexpensive phone which looks cheap but giv...        5  \n",
        "3   no doubt product is value for money also i fol...        4  \n",
        "4   literally i bought this phone only to make cal...        5  \n",
        "5   because of its durability this phone has basic...        2  \n",
        "6   was looking for such phone rocksolid sturdy ph...        5  \n",
        "7   my mistake i went by the name nokia and though...        4  \n",
        "8   total waste of money i bought this as a standb...        5  \n",
        "9   a very bare basic phone that does the job it i...        5  \n",
        "10  excellent seller value for money fantastic pro...        4  \n",
        "11  great product value for money using it for las...        0  \n",
        "12  nice back up phone battery back up of 3 weeks ...        0  \n",
        "13  liked it good one for the pricebest in arrange...        1  \n",
        "14  amazing actually i liked its rigtone nokia rin...        1  \n",
        "15  everything was fine but the earplugs were not ...        0  \n",
        "16  this is one good phone from nokia with all bas...        5  \n",
        "17  i ordered this phone for my friend and my frie...        3  \n",
        "18  i bought this phone for rs949 for my mom its v...        5  \n",
        "19  phone is ok but its not responding in case of ...        5  "
       ]
      }
     ],
     "prompt_number": 19
    },
    {
     "cell_type": "code",
     "collapsed": false,
     "input": [
      "data['cluster'].value_counts()"
     ],
     "language": "python",
     "metadata": {},
     "outputs": [
      {
       "metadata": {},
       "output_type": "pyout",
       "prompt_number": 21,
       "text": [
        "0    3306\n",
        "5    3071\n",
        "3     919\n",
        "1     757\n",
        "4     742\n",
        "2     547\n",
        "dtype: int64"
       ]
      }
     ],
     "prompt_number": 21
    },
    {
     "cell_type": "code",
     "collapsed": false,
     "input": [
      "from gensim import corpora,models, similarities"
     ],
     "language": "python",
     "metadata": {},
     "outputs": [],
     "prompt_number": 22
    },
    {
     "cell_type": "code",
     "collapsed": false,
     "input": [
      "import sys\n",
      "reload(sys)\n",
      "sys.setdefaultencoding('utf8')"
     ],
     "language": "python",
     "metadata": {},
     "outputs": [],
     "prompt_number": 25
    },
    {
     "cell_type": "code",
     "collapsed": false,
     "input": [
      "%time preprocess = [tokenize_and_stem(doc) for doc in data['review']]"
     ],
     "language": "python",
     "metadata": {},
     "outputs": [],
     "prompt_number": 49
    },
    {
     "cell_type": "code",
     "collapsed": false,
     "input": [
      "texts = [[word for word in review if word not in stopwords] for review in preprocess]"
     ],
     "language": "python",
     "metadata": {},
     "outputs": [],
     "prompt_number": 50
    },
    {
     "cell_type": "code",
     "collapsed": false,
     "input": [
      "#Gensim\n",
      "dictionary = corpora.Dictionary(texts)\n",
      "\n",
      "dictionary.filter_extremes(no_below=1, no_above=0.75)\n",
      "\n",
      "corpus = [dictionary.doc2bow(text) for text in texts]"
     ],
     "language": "python",
     "metadata": {},
     "outputs": [],
     "prompt_number": 51
    },
    {
     "cell_type": "code",
     "collapsed": false,
     "input": [
      "%time lda = models.LdaMulticore(corpus, num_topics=3,id2word=dictionary,workers=4, passes=20, eval_every=5, chunksize=5000)"
     ],
     "language": "python",
     "metadata": {},
     "outputs": [],
     "prompt_number": 52
    },
    {
     "cell_type": "markdown",
     "metadata": {},
     "source": [
      "This takes 10 minutes on a corpus containing summaries of 100 movies. God knows how much it'll take here"
     ]
    },
    {
     "cell_type": "code",
     "collapsed": false,
     "input": [
      "len(corpus)"
     ],
     "language": "python",
     "metadata": {},
     "outputs": [
      {
       "metadata": {},
       "output_type": "pyout",
       "prompt_number": 34,
       "text": [
        "9342"
       ]
      }
     ],
     "prompt_number": 34
    },
    {
     "cell_type": "code",
     "collapsed": false,
     "input": [
      "lda.show_topics()"
     ],
     "language": "python",
     "metadata": {},
     "outputs": [
      {
       "metadata": {},
       "output_type": "pyout",
       "prompt_number": 53,
       "text": [
        "[u'0.017*use + 0.010*batteri + 0.010*app + 0.010*good + 0.007*veri + 0.007*day + 0.007*camera + 0.007*get + 0.007*screen + 0.006*like',\n",
        " u'0.010*devic + 0.009*one + 0.008*servic + 0.008*camera + 0.007*price + 0.007*get + 0.007*batteri + 0.006*good + 0.006*buy + 0.006*better',\n",
        " u'0.059*good + 0.034*veri + 0.018*camera + 0.017*batteri + 0.016*product + 0.016*price + 0.015*mobil + 0.015*nice + 0.014*qualiti + 0.010*best']"
       ]
      }
     ],
     "prompt_number": 53
    },
    {
     "cell_type": "code",
     "collapsed": false,
     "input": [],
     "language": "python",
     "metadata": {},
     "outputs": []
    }
   ],
   "metadata": {}
  }
 ]
}